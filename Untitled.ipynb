{
 "cells": [
  {
   "cell_type": "code",
   "execution_count": 1,
   "id": "6ed7d8d2-aa4b-4716-a357-ec3d08f0e741",
   "metadata": {},
   "outputs": [],
   "source": [
    "my_dictionary = {\n",
    "    \"name\": \"person 1\",\n",
    "    \"age\":35,\n",
    "    \"salary\":400\n",
    "}"
   ]
  },
  {
   "cell_type": "code",
   "execution_count": 2,
   "id": "26551b87-a73b-4c31-b005-e09f252dce61",
   "metadata": {},
   "outputs": [
    {
     "name": "stdout",
     "output_type": "stream",
     "text": [
      "{'name': 'person 1', 'age': 35, 'salary': 400}\n"
     ]
    }
   ],
   "source": [
    "print(my_dictionary)"
   ]
  },
  {
   "cell_type": "code",
   "execution_count": 10,
   "id": "20ca662d-7651-45f1-80dc-e17933978e94",
   "metadata": {},
   "outputs": [],
   "source": [
    "my_dictionary = {\n",
    "    \"name\":[\"person 1\", \"person 2\",\"person 3\",\"person 4\",\"person 5\"],\n",
    "    \"age\":[35,100,34,456,67],\n",
    "    \"salary\":[400,500,500,560,750],\n",
    "}\n",
    "\n"
   ]
  },
  {
   "cell_type": "code",
   "execution_count": 11,
   "id": "eef80ee2-85e7-4189-9764-a801f69a6c00",
   "metadata": {},
   "outputs": [
    {
     "data": {
      "text/plain": [
       "{'name': ['person 1', 'person 2', 'person 3', 'person 4', 'person 5'],\n",
       " 'age': [35, 100, 34, 456, 67],\n",
       " 'salary': [400, 500, 500, 560, 750]}"
      ]
     },
     "execution_count": 11,
     "metadata": {},
     "output_type": "execute_result"
    }
   ],
   "source": [
    "my_dictionary"
   ]
  },
  {
   "cell_type": "code",
   "execution_count": 53,
   "id": "04ef3ef5-f9bc-4a64-8f75-8614ddab8056",
   "metadata": {},
   "outputs": [],
   "source": [
    "my_dictionary['location']=['mombasa','kisumu','nakuru','eldoret','busia']"
   ]
  },
  {
   "cell_type": "code",
   "execution_count": 54,
   "id": "b43d4578-5983-425f-b4cb-9cffb473882f",
   "metadata": {},
   "outputs": [
    {
     "data": {
      "text/plain": [
       "{'name': ['person 1', 'person 2', 'person 3', 'person 4', 'person 5'],\n",
       " 'age': [35, 100, 34, 456, 67],\n",
       " 'salary': [400, 500, 500, 560, 750],\n",
       " 'location': ['mombasa', 'kisumu', 'nakuru', 'eldoret', 'busia']}"
      ]
     },
     "execution_count": 54,
     "metadata": {},
     "output_type": "execute_result"
    }
   ],
   "source": [
    "my_dictionary"
   ]
  },
  {
   "cell_type": "code",
   "execution_count": 55,
   "id": "9a73209b-69e7-479c-a8e7-66eb7a8d6988",
   "metadata": {},
   "outputs": [
    {
     "name": "stdout",
     "output_type": "stream",
     "text": [
      "name ['person 1', 'person 2', 'person 3', 'person 4', 'person 5']\n",
      "age [35, 100, 34, 456, 67]\n",
      "salary [400, 500, 500, 560, 750]\n",
      "location ['mombasa', 'kisumu', 'nakuru', 'eldoret', 'busia']\n"
     ]
    }
   ],
   "source": [
    "for key, value in my_dictionary.items():\n",
    "    print(key, value)"
   ]
  },
  {
   "cell_type": "code",
   "execution_count": 36,
   "id": "542db76a-78c4-4939-b65b-74bb54689b96",
   "metadata": {},
   "outputs": [],
   "source": [
    "import pandas as pd"
   ]
  },
  {
   "cell_type": "code",
   "execution_count": 110,
   "id": "57f52281-9127-44a6-ab08-3788a7307d7e",
   "metadata": {},
   "outputs": [
    {
     "data": {
      "text/plain": [
       "{'name': ['person 1', 'person 2', 'person 3', 'person 4', 'person 5'],\n",
       " 'age': [35, 100, 34, 456, 67],\n",
       " 'salary': [400, 500, 500, 560, 750],\n",
       " 'location': ['mombasa', 'kisumu', 'nakuru', 'eldoret', 'busia']}"
      ]
     },
     "execution_count": 110,
     "metadata": {},
     "output_type": "execute_result"
    }
   ],
   "source": [
    "my_dictionary"
   ]
  },
  {
   "cell_type": "code",
   "execution_count": 111,
   "id": "c99286fc-ae79-4894-b0a6-7ce2cd8680f9",
   "metadata": {},
   "outputs": [],
   "source": [
    "df = pd.DataFrame(my_dictionary)"
   ]
  },
  {
   "cell_type": "code",
   "execution_count": 112,
   "id": "02c581fc-c21d-4467-a708-e98314b336b5",
   "metadata": {},
   "outputs": [
    {
     "data": {
      "text/html": [
       "<div>\n",
       "<style scoped>\n",
       "    .dataframe tbody tr th:only-of-type {\n",
       "        vertical-align: middle;\n",
       "    }\n",
       "\n",
       "    .dataframe tbody tr th {\n",
       "        vertical-align: top;\n",
       "    }\n",
       "\n",
       "    .dataframe thead th {\n",
       "        text-align: right;\n",
       "    }\n",
       "</style>\n",
       "<table border=\"1\" class=\"dataframe\">\n",
       "  <thead>\n",
       "    <tr style=\"text-align: right;\">\n",
       "      <th></th>\n",
       "      <th>name</th>\n",
       "      <th>age</th>\n",
       "      <th>salary</th>\n",
       "      <th>location</th>\n",
       "    </tr>\n",
       "  </thead>\n",
       "  <tbody>\n",
       "    <tr>\n",
       "      <th>0</th>\n",
       "      <td>person 1</td>\n",
       "      <td>35</td>\n",
       "      <td>400</td>\n",
       "      <td>mombasa</td>\n",
       "    </tr>\n",
       "    <tr>\n",
       "      <th>1</th>\n",
       "      <td>person 2</td>\n",
       "      <td>100</td>\n",
       "      <td>500</td>\n",
       "      <td>kisumu</td>\n",
       "    </tr>\n",
       "    <tr>\n",
       "      <th>2</th>\n",
       "      <td>person 3</td>\n",
       "      <td>34</td>\n",
       "      <td>500</td>\n",
       "      <td>nakuru</td>\n",
       "    </tr>\n",
       "    <tr>\n",
       "      <th>3</th>\n",
       "      <td>person 4</td>\n",
       "      <td>456</td>\n",
       "      <td>560</td>\n",
       "      <td>eldoret</td>\n",
       "    </tr>\n",
       "    <tr>\n",
       "      <th>4</th>\n",
       "      <td>person 5</td>\n",
       "      <td>67</td>\n",
       "      <td>750</td>\n",
       "      <td>busia</td>\n",
       "    </tr>\n",
       "  </tbody>\n",
       "</table>\n",
       "</div>"
      ],
      "text/plain": [
       "       name  age  salary location\n",
       "0  person 1   35     400  mombasa\n",
       "1  person 2  100     500   kisumu\n",
       "2  person 3   34     500   nakuru\n",
       "3  person 4  456     560  eldoret\n",
       "4  person 5   67     750    busia"
      ]
     },
     "execution_count": 112,
     "metadata": {},
     "output_type": "execute_result"
    }
   ],
   "source": [
    "df"
   ]
  },
  {
   "cell_type": "code",
   "execution_count": 113,
   "id": "a5588eba-1390-41b1-a3e9-bf6e7fdd0a0a",
   "metadata": {},
   "outputs": [
    {
     "data": {
      "text/html": [
       "<div>\n",
       "<style scoped>\n",
       "    .dataframe tbody tr th:only-of-type {\n",
       "        vertical-align: middle;\n",
       "    }\n",
       "\n",
       "    .dataframe tbody tr th {\n",
       "        vertical-align: top;\n",
       "    }\n",
       "\n",
       "    .dataframe thead th {\n",
       "        text-align: right;\n",
       "    }\n",
       "</style>\n",
       "<table border=\"1\" class=\"dataframe\">\n",
       "  <thead>\n",
       "    <tr style=\"text-align: right;\">\n",
       "      <th></th>\n",
       "      <th>name</th>\n",
       "      <th>age</th>\n",
       "    </tr>\n",
       "  </thead>\n",
       "  <tbody>\n",
       "    <tr>\n",
       "      <th>0</th>\n",
       "      <td>person 1</td>\n",
       "      <td>35</td>\n",
       "    </tr>\n",
       "    <tr>\n",
       "      <th>1</th>\n",
       "      <td>person 2</td>\n",
       "      <td>100</td>\n",
       "    </tr>\n",
       "    <tr>\n",
       "      <th>2</th>\n",
       "      <td>person 3</td>\n",
       "      <td>34</td>\n",
       "    </tr>\n",
       "    <tr>\n",
       "      <th>3</th>\n",
       "      <td>person 4</td>\n",
       "      <td>456</td>\n",
       "    </tr>\n",
       "    <tr>\n",
       "      <th>4</th>\n",
       "      <td>person 5</td>\n",
       "      <td>67</td>\n",
       "    </tr>\n",
       "  </tbody>\n",
       "</table>\n",
       "</div>"
      ],
      "text/plain": [
       "       name  age\n",
       "0  person 1   35\n",
       "1  person 2  100\n",
       "2  person 3   34\n",
       "3  person 4  456\n",
       "4  person 5   67"
      ]
     },
     "execution_count": 113,
     "metadata": {},
     "output_type": "execute_result"
    }
   ],
   "source": [
    "df[[\"name\",\"age\"]]"
   ]
  },
  {
   "cell_type": "code",
   "execution_count": 115,
   "id": "af3d92bd-69c9-4d65-9943-4e0dbe7d71b9",
   "metadata": {},
   "outputs": [
    {
     "data": {
      "text/plain": [
       "0     36\n",
       "1    101\n",
       "2     35\n",
       "3    457\n",
       "4     68\n",
       "Name: age, dtype: int64"
      ]
     },
     "execution_count": 115,
     "metadata": {},
     "output_type": "execute_result"
    }
   ],
   "source": [
    "df[\"age\"]+1"
   ]
  },
  {
   "cell_type": "code",
   "execution_count": 116,
   "id": "e0cf21ae-8f1f-4ea9-864e-b52690a76bf5",
   "metadata": {},
   "outputs": [
    {
     "data": {
      "text/plain": [
       "0    person 1s\n",
       "1    person 2s\n",
       "2    person 3s\n",
       "3    person 4s\n",
       "4    person 5s\n",
       "Name: name, dtype: object"
      ]
     },
     "execution_count": 116,
     "metadata": {},
     "output_type": "execute_result"
    }
   ],
   "source": [
    "df[\"name\"]+\"s\""
   ]
  },
  {
   "cell_type": "code",
   "execution_count": 117,
   "id": "1ba12fc3-678e-4546-b15d-ca7bcf911843",
   "metadata": {},
   "outputs": [
    {
     "data": {
      "text/plain": [
       "name        object\n",
       "age          int64\n",
       "salary       int64\n",
       "location    object\n",
       "dtype: object"
      ]
     },
     "execution_count": 117,
     "metadata": {},
     "output_type": "execute_result"
    }
   ],
   "source": [
    "df.dtypes"
   ]
  },
  {
   "cell_type": "code",
   "execution_count": 98,
   "id": "4dacf5c9-6398-4290-b822-d08084893288",
   "metadata": {},
   "outputs": [
    {
     "name": "stdin",
     "output_type": "stream",
     "text": [
      "enter number 6\n"
     ]
    },
    {
     "name": "stdout",
     "output_type": "stream",
     "text": [
      "even\n",
      "even\n"
     ]
    }
   ],
   "source": [
    "def numberchecker(x):\n",
    "   \n",
    "    for x in range(2):\n",
    "        if num%2==0:\n",
    "            print(\"even\")\n",
    "        else:\n",
    "            print(\"odd\")\n",
    "\n",
    "num = int(input(\"enter number\"))\n",
    "numberchecker(num)"
   ]
  },
  {
   "cell_type": "code",
   "execution_count": 118,
   "id": "563ada43-7b20-4041-ab10-a6daa609a4e0",
   "metadata": {},
   "outputs": [],
   "source": [
    "df[\"age\"] = df[\"age\"]+1"
   ]
  },
  {
   "cell_type": "code",
   "execution_count": 119,
   "id": "f77c8d9c-fa09-4111-ba61-ad2c0e3b6222",
   "metadata": {},
   "outputs": [
    {
     "data": {
      "text/html": [
       "<div>\n",
       "<style scoped>\n",
       "    .dataframe tbody tr th:only-of-type {\n",
       "        vertical-align: middle;\n",
       "    }\n",
       "\n",
       "    .dataframe tbody tr th {\n",
       "        vertical-align: top;\n",
       "    }\n",
       "\n",
       "    .dataframe thead th {\n",
       "        text-align: right;\n",
       "    }\n",
       "</style>\n",
       "<table border=\"1\" class=\"dataframe\">\n",
       "  <thead>\n",
       "    <tr style=\"text-align: right;\">\n",
       "      <th></th>\n",
       "      <th>name</th>\n",
       "      <th>age</th>\n",
       "      <th>salary</th>\n",
       "      <th>location</th>\n",
       "    </tr>\n",
       "  </thead>\n",
       "  <tbody>\n",
       "    <tr>\n",
       "      <th>0</th>\n",
       "      <td>person 1</td>\n",
       "      <td>36</td>\n",
       "      <td>400</td>\n",
       "      <td>mombasa</td>\n",
       "    </tr>\n",
       "    <tr>\n",
       "      <th>1</th>\n",
       "      <td>person 2</td>\n",
       "      <td>101</td>\n",
       "      <td>500</td>\n",
       "      <td>kisumu</td>\n",
       "    </tr>\n",
       "    <tr>\n",
       "      <th>2</th>\n",
       "      <td>person 3</td>\n",
       "      <td>35</td>\n",
       "      <td>500</td>\n",
       "      <td>nakuru</td>\n",
       "    </tr>\n",
       "    <tr>\n",
       "      <th>3</th>\n",
       "      <td>person 4</td>\n",
       "      <td>457</td>\n",
       "      <td>560</td>\n",
       "      <td>eldoret</td>\n",
       "    </tr>\n",
       "    <tr>\n",
       "      <th>4</th>\n",
       "      <td>person 5</td>\n",
       "      <td>68</td>\n",
       "      <td>750</td>\n",
       "      <td>busia</td>\n",
       "    </tr>\n",
       "  </tbody>\n",
       "</table>\n",
       "</div>"
      ],
      "text/plain": [
       "       name  age  salary location\n",
       "0  person 1   36     400  mombasa\n",
       "1  person 2  101     500   kisumu\n",
       "2  person 3   35     500   nakuru\n",
       "3  person 4  457     560  eldoret\n",
       "4  person 5   68     750    busia"
      ]
     },
     "execution_count": 119,
     "metadata": {},
     "output_type": "execute_result"
    }
   ],
   "source": [
    "df"
   ]
  },
  {
   "cell_type": "code",
   "execution_count": 120,
   "id": "07582bd6-4484-4531-aa6b-3c78d427d770",
   "metadata": {},
   "outputs": [
    {
     "name": "stdin",
     "output_type": "stream",
     "text": [
      " 7\n"
     ]
    },
    {
     "name": "stdout",
     "output_type": "stream",
     "text": [
      "odd\n"
     ]
    },
    {
     "name": "stdin",
     "output_type": "stream",
     "text": [
      " 9\n"
     ]
    },
    {
     "name": "stdout",
     "output_type": "stream",
     "text": [
      "odd\n"
     ]
    }
   ],
   "source": [
    "for x in range(2):\n",
    "    def check (number):\n",
    "        for item in number:\n",
    "            if item%2==0:\n",
    "                print('even')\n",
    "            else:\n",
    "                print('odd')\n",
    "\n",
    "    numbers=int(input())\n",
    "    check({numbers})"
   ]
  },
  {
   "cell_type": "code",
   "execution_count": 124,
   "id": "d4867c97-07a5-4867-a643-58c3d0700d75",
   "metadata": {},
   "outputs": [],
   "source": [
    "df[\"age\"], df[\"salary\"] = df[\"age\"]+1, df[\"salary\"]+500"
   ]
  },
  {
   "cell_type": "code",
   "execution_count": 125,
   "id": "1b722ea6-94f7-42a0-9ffc-4cebc08b2b92",
   "metadata": {},
   "outputs": [
    {
     "data": {
      "text/html": [
       "<div>\n",
       "<style scoped>\n",
       "    .dataframe tbody tr th:only-of-type {\n",
       "        vertical-align: middle;\n",
       "    }\n",
       "\n",
       "    .dataframe tbody tr th {\n",
       "        vertical-align: top;\n",
       "    }\n",
       "\n",
       "    .dataframe thead th {\n",
       "        text-align: right;\n",
       "    }\n",
       "</style>\n",
       "<table border=\"1\" class=\"dataframe\">\n",
       "  <thead>\n",
       "    <tr style=\"text-align: right;\">\n",
       "      <th></th>\n",
       "      <th>name</th>\n",
       "      <th>age</th>\n",
       "      <th>salary</th>\n",
       "      <th>location</th>\n",
       "    </tr>\n",
       "  </thead>\n",
       "  <tbody>\n",
       "    <tr>\n",
       "      <th>0</th>\n",
       "      <td>person 1</td>\n",
       "      <td>37</td>\n",
       "      <td>900</td>\n",
       "      <td>mombasa</td>\n",
       "    </tr>\n",
       "    <tr>\n",
       "      <th>1</th>\n",
       "      <td>person 2</td>\n",
       "      <td>102</td>\n",
       "      <td>1000</td>\n",
       "      <td>kisumu</td>\n",
       "    </tr>\n",
       "    <tr>\n",
       "      <th>2</th>\n",
       "      <td>person 3</td>\n",
       "      <td>36</td>\n",
       "      <td>1000</td>\n",
       "      <td>nakuru</td>\n",
       "    </tr>\n",
       "    <tr>\n",
       "      <th>3</th>\n",
       "      <td>person 4</td>\n",
       "      <td>458</td>\n",
       "      <td>1060</td>\n",
       "      <td>eldoret</td>\n",
       "    </tr>\n",
       "    <tr>\n",
       "      <th>4</th>\n",
       "      <td>person 5</td>\n",
       "      <td>69</td>\n",
       "      <td>1250</td>\n",
       "      <td>busia</td>\n",
       "    </tr>\n",
       "  </tbody>\n",
       "</table>\n",
       "</div>"
      ],
      "text/plain": [
       "       name  age  salary location\n",
       "0  person 1   37     900  mombasa\n",
       "1  person 2  102    1000   kisumu\n",
       "2  person 3   36    1000   nakuru\n",
       "3  person 4  458    1060  eldoret\n",
       "4  person 5   69    1250    busia"
      ]
     },
     "execution_count": 125,
     "metadata": {},
     "output_type": "execute_result"
    }
   ],
   "source": [
    "df"
   ]
  },
  {
   "cell_type": "code",
   "execution_count": null,
   "id": "ce1af5f7-33cd-4e50-83f7-e5d544783577",
   "metadata": {},
   "outputs": [],
   "source": []
  },
  {
   "cell_type": "code",
   "execution_count": null,
   "id": "e95b2d24-f79d-4757-8f75-3829786e295a",
   "metadata": {},
   "outputs": [],
   "source": []
  }
 ],
 "metadata": {
  "kernelspec": {
   "display_name": "Python 3 (ipykernel)",
   "language": "python",
   "name": "python3"
  },
  "language_info": {
   "codemirror_mode": {
    "name": "ipython",
    "version": 3
   },
   "file_extension": ".py",
   "mimetype": "text/x-python",
   "name": "python",
   "nbconvert_exporter": "python",
   "pygments_lexer": "ipython3",
   "version": "3.12.4"
  }
 },
 "nbformat": 4,
 "nbformat_minor": 5
}
