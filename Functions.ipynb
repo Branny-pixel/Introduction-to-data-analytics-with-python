{
 "cells": [
  {
   "cell_type": "code",
   "execution_count": 2,
   "id": "f5f8993e-bef1-4365-858b-2f861dce4f22",
   "metadata": {},
   "outputs": [],
   "source": [
    "def family():\n",
    "    print(\"family members\")"
   ]
  },
  {
   "cell_type": "code",
   "execution_count": 3,
   "id": "9c2b39a0-fc39-4935-97aa-2d0955e1f2a9",
   "metadata": {},
   "outputs": [
    {
     "name": "stdout",
     "output_type": "stream",
     "text": [
      "family members\n"
     ]
    }
   ],
   "source": [
    "family()"
   ]
  },
  {
   "cell_type": "code",
   "execution_count": 4,
   "id": "b439d15f-e141-4ced-b125-a81723ea31e6",
   "metadata": {},
   "outputs": [],
   "source": [
    "def GenZ():\n",
    "    print(\"Ruto must go\")"
   ]
  },
  {
   "cell_type": "code",
   "execution_count": 5,
   "id": "a9979cb8-db64-4c8d-a01c-6ba4788acb2f",
   "metadata": {},
   "outputs": [
    {
     "name": "stdout",
     "output_type": "stream",
     "text": [
      "Ruto must go\n"
     ]
    }
   ],
   "source": [
    "GenZ()\n"
   ]
  },
  {
   "cell_type": "code",
   "execution_count": 11,
   "id": "5373eef4-0e75-4e71-b3d2-81a8d8266bf9",
   "metadata": {},
   "outputs": [],
   "source": [
    "def add(a,b):\n",
    "    result= a+b\n",
    "    return(result)"
   ]
  },
  {
   "cell_type": "code",
   "execution_count": 12,
   "id": "888764ad-455a-4880-9a9d-24cc39b4cc3a",
   "metadata": {},
   "outputs": [
    {
     "data": {
      "text/plain": [
       "9"
      ]
     },
     "execution_count": 12,
     "metadata": {},
     "output_type": "execute_result"
    }
   ],
   "source": [
    "add(5,4)"
   ]
  },
  {
   "cell_type": "code",
   "execution_count": 16,
   "id": "4938cb0a-1344-44ef-9fbb-85c1bb3474ce",
   "metadata": {},
   "outputs": [],
   "source": [
    "def books():\n",
    "    print(\"dolls\")"
   ]
  },
  {
   "cell_type": "code",
   "execution_count": 17,
   "id": "e25c3d7e-7e85-4ac4-9499-279061d0ee92",
   "metadata": {},
   "outputs": [
    {
     "name": "stdout",
     "output_type": "stream",
     "text": [
      "dolls\n"
     ]
    }
   ],
   "source": [
    "books()"
   ]
  },
  {
   "cell_type": "code",
   "execution_count": 21,
   "id": "6d162e97-328f-4e47-99d1-4ccf5b8752e0",
   "metadata": {},
   "outputs": [],
   "source": [
    "def add(a,b):\n",
    "    results =a+b\n",
    "    return(results)\n"
   ]
  },
  {
   "cell_type": "code",
   "execution_count": 22,
   "id": "3b9c215b-7caf-4dc8-9163-9191dfc6a731",
   "metadata": {},
   "outputs": [
    {
     "data": {
      "text/plain": [
       "12"
      ]
     },
     "execution_count": 22,
     "metadata": {},
     "output_type": "execute_result"
    }
   ],
   "source": [
    "x= add(6,6)\n",
    "x"
   ]
  },
  {
   "cell_type": "code",
   "execution_count": 24,
   "id": "86ff9c26-96c2-4639-8484-8843781f85db",
   "metadata": {},
   "outputs": [
    {
     "data": {
      "text/plain": [
       "7"
      ]
     },
     "execution_count": 24,
     "metadata": {},
     "output_type": "execute_result"
    }
   ],
   "source": [
    "max(6,7)"
   ]
  },
  {
   "cell_type": "code",
   "execution_count": 25,
   "id": "5c4d9e95-c7a8-44ea-9b26-27ee15de0cd6",
   "metadata": {},
   "outputs": [
    {
     "data": {
      "text/plain": [
       "23"
      ]
     },
     "execution_count": 25,
     "metadata": {},
     "output_type": "execute_result"
    }
   ],
   "source": [
    "min(34,56,23)"
   ]
  },
  {
   "cell_type": "code",
   "execution_count": 26,
   "id": "cf879585-8aa9-438c-b80e-7a0bd7857afa",
   "metadata": {},
   "outputs": [
    {
     "data": {
      "text/plain": [
       "7"
      ]
     },
     "execution_count": 26,
     "metadata": {},
     "output_type": "execute_result"
    }
   ],
   "source": [
    "len(\"Branice\")"
   ]
  },
  {
   "cell_type": "code",
   "execution_count": 30,
   "id": "654ad0a8-9bd0-41cf-a3cb-5dacae4731ca",
   "metadata": {},
   "outputs": [
    {
     "name": "stdout",
     "output_type": "stream",
     "text": [
      "1\n"
     ]
    }
   ],
   "source": [
    "mylist = [1,2,3,4]\n",
    "print(mylist[0])\n"
   ]
  },
  {
   "cell_type": "code",
   "execution_count": 31,
   "id": "3a69eec1-3313-4bef-a738-855bf2295155",
   "metadata": {},
   "outputs": [
    {
     "data": {
      "text/plain": [
       "'wiu'"
      ]
     },
     "execution_count": 31,
     "metadata": {},
     "output_type": "execute_result"
    }
   ],
   "source": [
    "grocery=[\"tomato\",\"wiu\",\"onion\"]\n",
    "grocery[1]"
   ]
  },
  {
   "cell_type": "code",
   "execution_count": 34,
   "id": "01ce488c-048b-47a7-a376-6d4779327a9a",
   "metadata": {},
   "outputs": [
    {
     "name": "stdout",
     "output_type": "stream",
     "text": [
      "tomato\n",
      "wiu\n",
      "onion\n",
      "['tomato', 'wiu', 'onion']\n"
     ]
    }
   ],
   "source": [
    "ind = 0\n",
    "for item in grocery:\n",
    "    print(item)\n",
    "\n",
    "print(grocery)"
   ]
  },
  {
   "cell_type": "code",
   "execution_count": 59,
   "id": "a5a59222-090b-40df-9ca6-40815473c70f",
   "metadata": {},
   "outputs": [
    {
     "name": "stdout",
     "output_type": "stream",
     "text": [
      "['tomato', 'wiu', 'kitungu']\n"
     ]
    }
   ],
   "source": [
    "grocery=[\"tomato\",\"wiu\",\"onion\"]\n",
    "ind = 0\n",
    "for items in grocery:\n",
    "    if item== \"onion\":\n",
    "        grocery[2]=\"kitungu\"\n",
    "        ind = ind +1\n",
    "print (grocery)"
   ]
  },
  {
   "cell_type": "code",
   "execution_count": 60,
   "id": "428a1172-c917-4a93-b0e8-1dabf5a2509e",
   "metadata": {},
   "outputs": [
    {
     "name": "stdout",
     "output_type": "stream",
     "text": [
      "['tomato', 'wiu', 'kitungu', 'cabbage']\n"
     ]
    }
   ],
   "source": [
    "grocery.append(\"cabbage\")\n",
    "print(grocery)"
   ]
  },
  {
   "cell_type": "code",
   "execution_count": 61,
   "id": "e3c53f80-6434-4d20-bc3d-86dbdf3019c5",
   "metadata": {},
   "outputs": [
    {
     "name": "stdout",
     "output_type": "stream",
     "text": [
      "['tomato', 'kitungu', 'cabbage']\n"
     ]
    }
   ],
   "source": [
    "grocery.remove(\"wiu\")\n",
    "print(grocery)"
   ]
  },
  {
   "cell_type": "code",
   "execution_count": null,
   "id": "2b22e2c0-8c7f-4378-a1b4-cf84c97c829d",
   "metadata": {},
   "outputs": [],
   "source": []
  }
 ],
 "metadata": {
  "kernelspec": {
   "display_name": "Python 3 (ipykernel)",
   "language": "python",
   "name": "python3"
  },
  "language_info": {
   "codemirror_mode": {
    "name": "ipython",
    "version": 3
   },
   "file_extension": ".py",
   "mimetype": "text/x-python",
   "name": "python",
   "nbconvert_exporter": "python",
   "pygments_lexer": "ipython3",
   "version": "3.12.4"
  }
 },
 "nbformat": 4,
 "nbformat_minor": 5
}
